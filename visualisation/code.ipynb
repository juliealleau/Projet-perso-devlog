{
 "metadata": {
  "language_info": {
   "codemirror_mode": {
    "name": "ipython",
    "version": 3
   },
   "file_extension": ".py",
   "mimetype": "text/x-python",
   "name": "python",
   "nbconvert_exporter": "python",
   "pygments_lexer": "ipython3",
   "version": "3.8.5"
  },
  "orig_nbformat": 2,
  "kernelspec": {
   "name": "python3",
   "display_name": "Python 3.8.5 64-bit ('base': conda)",
   "metadata": {
    "interpreter": {
     "hash": "a707b6ce8c685eb936424fcc3009d4b4b7a52543c4db09380a3fc49186ceb509"
    }
   }
  }
 },
 "nbformat": 4,
 "nbformat_minor": 2,
 "cells": [
  {
   "cell_type": "code",
   "execution_count": 13,
   "metadata": {},
   "outputs": [],
   "source": [
    "#Si le code ne se lance pas à cause de la fenêtre graphique,\n",
    "#lancez le via vscode sur votre ordineur et celui-ci la reconnaîtra.\n",
    "# (il semble que la)  "
   ]
  },
  {
   "cell_type": "code",
   "execution_count": 14,
   "metadata": {},
   "outputs": [],
   "source": [
    "import tkinter as tk\n",
    "import pandas as pd\n",
    "from download import download\n",
    "import matplotlib\n",
    "\n",
    "#Faire les commandes suivantes si problème d'importation de download\n",
    "#import sys\n",
    "#!{sys.executable} -m pip install download"
   ]
  },
  {
   "cell_type": "code",
   "execution_count": 15,
   "metadata": {},
   "outputs": [],
   "source": [
    "#taille de la fenêtre\n",
    "taille = 1100\n",
    "largeur = 1200\n"
   ]
  },
  {
   "cell_type": "code",
   "execution_count": 16,
   "metadata": {},
   "outputs": [
    {
     "output_type": "stream",
     "name": "stdout",
     "text": [
      "./JSON1.json\n",
      "Downloading data from https://data.montpellier3m.fr/sites/default/files/ressources/MMM_EcoCompt_X2H20042633.json (272 bytes)\n",
      "\n",
      "file_sizes: 100%|██████████████████████████████| 272/272 [00:00<00:00, 44.3kB/s]\n",
      "Successfully downloaded file to ./JSON1.json\n",
      "./JSON2.json\n",
      "Downloading data from https://data.montpellier3m.fr/sites/default/files/ressources/MMM_EcoCompt_X2H20042632.json (271 bytes)\n",
      "\n",
      "file_sizes: 100%|██████████████████████████████| 271/271 [00:00<00:00, 36.6kB/s]\n",
      "Successfully downloaded file to ./JSON2.json\n",
      "./JSON3.json\n",
      "Downloading data from https://data.montpellier3m.fr/sites/default/files/ressources/MMM_EcoCompt_X2H19070220.json (293 bytes)\n",
      "\n",
      "file_sizes: 100%|██████████████████████████████| 293/293 [00:00<00:00, 45.2kB/s]\n",
      "Successfully downloaded file to ./JSON3.json\n"
     ]
    }
   ],
   "source": [
    "url = \"https://data.montpellier3m.fr/sites/default/files/ressources/MMM_EcoCompt_X2H20042633.json\"\n",
    "path_target1 = \"./JSON1.json\"\n",
    "print(path_target1)\n",
    "download(url, path_target1, replace=True) \n",
    "\n",
    "url = \"https://data.montpellier3m.fr/sites/default/files/ressources/MMM_EcoCompt_X2H20042632.json\"\n",
    "path_target2 = \"./JSON2.json\"\n",
    "print(path_target2)\n",
    "download(url, path_target2, replace=True) \n",
    "\n",
    "url = \"https://data.montpellier3m.fr/sites/default/files/ressources/MMM_EcoCompt_X2H19070220.json\"\n",
    "path_target3 = \"./JSON3.json\"\n",
    "print(path_target3)\n",
    "download(url, path_target3, replace=True) \n",
    "\n",
    "df1 = pd.read_json(\"JSON1.json\") # Berracasa\n",
    "df2 = pd.read_json(\"JSON2.json\") # Laverune\n",
    "df3 = pd.read_json(\"JSON3.json\") # Celleneuve\n",
    "df = pd.concat([df1 , df2, df3], ignore_index = True)"
   ]
  },
  {
   "cell_type": "code",
   "execution_count": 17,
   "metadata": {},
   "outputs": [],
   "source": [
    "def velo(variable):\n",
    "    df1 = pd.read_json(\"JSON1.json\") # Berracasa\n",
    "    df2 = pd.read_json(\"JSON2.json\") # Laverune\n",
    "    df3 = pd.read_json(\"JSON3.json\") # Celleneuve\n",
    "    df = pd.concat([df1 , df2, df3], ignore_index = True)\n",
    "    output_label = tk.Label(font=(\"Helvetica\", 15))\n",
    "    output_label.place(relx=0.20, rely=0.35, relwidth=0.6, relheight=0.4)\n",
    "    if variable.get() == 'Berracasa':\n",
    "       output_label['text'] = f\"Le nombre de vélo passé le {df['dateObserved'][0][0:10]} est de {df['intensity'][0]}\"\n",
    "    if variable.get() == 'Laverune':\n",
    "        output_label['text'] = f\"Le nombre de vélo passé le {df['dateObserved'][2][0:10]} est de {df['intensity'][2]}\"\n",
    "    if variable.get() == 'Celleneuve':\n",
    "        output_label['text'] = f\"Le nombre de vélo passé le {df['dateObserved'][4][0:10]} est de {df['intensity'][4]}\"\n",
    "\n"
   ]
  },
  {
   "cell_type": "code",
   "execution_count": 18,
   "metadata": {},
   "outputs": [],
   "source": [
    "racine = tk.Tk()\n",
    "#fenêtre\n",
    "toile = tk.Canvas(racine, height=taille, width=largeur)\n",
    "toile.pack()\n",
    "\n",
    "#image de fond\n",
    "image = tk.PhotoImage(file='C:/Users/Julie Alleau/Pictures/Saved Pictures/velomagg_tram.png')\n",
    "image_label = tk.Label(racine, image=image)\n",
    "image_label.place(relwidth=1, relheight=1)\n",
    "\n",
    "#petit cadre vert\n",
    "cadre = tk.Frame(racine, bg='#28b463', bd=5)\n",
    "cadre.place(relx=0.5, rely=0.1, relwidth=0.75, relheight=0.1, anchor='n')\n",
    "\n",
    "#menu déroulant\n",
    "OptionList = [\n",
    "\"Berracasa\",\n",
    "\"Laverune\",\n",
    "\"Celleneuve\"\n",
    "] \n",
    "\n",
    "variable = tk.StringVar(racine)\n",
    "variable.set(OptionList[0])\n",
    "\n",
    "opt = tk.OptionMenu(racine, variable, *OptionList)\n",
    "opt.config(width=90, font=('Helvetica', 15))\n",
    "opt.place(relx=0.2, rely=0.1,relwidth=0.4, relheight=0.1)\n",
    "\n",
    "#bouton \n",
    "bouton = tk.Button(cadre, text=\"cliquer ici\", font=40, command=lambda: velo(variable))\n",
    "bouton.place(relx=0.7, relwidth=0.3, relheight=1)\n",
    "\n",
    "#contour vert\n",
    "cadre_inferieur = tk.Frame(racine, bg='#28b463', bd=10)\n",
    "cadre_inferieur.place(relx=0.5, rely=0.25, relwidth=0.75, relheight=0.6, anchor='n')\n",
    "\n",
    "#cadre blanc au milieu\n",
    "label = tk.Label(cadre_inferieur)\n",
    "label.place(relwidth=1, relheight=1)\n",
    "\n",
    "\n",
    "racine.mainloop()"
   ]
  }
 ]
}