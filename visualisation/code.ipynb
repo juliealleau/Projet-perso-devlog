{
 "metadata": {
  "language_info": {
   "codemirror_mode": {
    "name": "ipython",
    "version": 3
   },
   "file_extension": ".py",
   "mimetype": "text/x-python",
   "name": "python",
   "nbconvert_exporter": "python",
   "pygments_lexer": "ipython3",
   "version": 3
  },
  "orig_nbformat": 2
 },
 "nbformat": 4,
 "nbformat_minor": 2,
 "cells": [
  {
   "cell_type": "code",
   "execution_count": null,
   "metadata": {},
   "outputs": [],
   "source": [
    "import tkinter as tk\n",
    "import pandas as pd\n",
    "from download import download"
   ]
  },
  {
   "cell_type": "code",
   "execution_count": null,
   "metadata": {},
   "outputs": [],
   "source": [
    "#taille de la fenêtre\n",
    "taille = 500\n",
    "largeur = 600\n"
   ]
  },
  {
   "cell_type": "code",
   "execution_count": null,
   "metadata": {},
   "outputs": [],
   "source": [
    "url = \"https://data.montpellier3m.fr/sites/default/files/ressources/MMM_EcoCompt_X2H20042633.json\"\n",
    "path_target1 = \"./JSON1.json\"\n",
    "print(path_target1)\n",
    "download(url, path_target1, replace=True) \n",
    "\n",
    "url = \"https://data.montpellier3m.fr/sites/default/files/ressources/MMM_EcoCompt_X2H20042632.json\"\n",
    "path_target2 = \"./JSON2.json\"\n",
    "print(path_target2)\n",
    "download(url, path_target2, replace=True) \n",
    "\n",
    "url = \"https://data.montpellier3m.fr/sites/default/files/ressources/MMM_EcoCompt_X2H19070220.json\"\n",
    "path_target3 = \"./JSON3.json\"\n",
    "print(path_target3)\n",
    "download(url, path_target3, replace=True) \n",
    "\n",
    "df1 = pd.read_json(\"JSON1.json\") # Berracasa\n",
    "df2 = pd.read_json(\"JSON2.json\") # Laverune\n",
    "df3 = pd.read_json(\"JSON3.json\") # Celleneuve\n",
    "df = pd.concat([df1 , df2, df3], ignore_index = True)"
   ]
  },
  {
   "cell_type": "code",
   "execution_count": null,
   "metadata": {},
   "outputs": [],
   "source": [
    "def velo(variable):\n",
    "    df1 = pd.read_json(\"JSON1.json\") # Berracasa\n",
    "    df2 = pd.read_json(\"JSON2.json\") # Laverune\n",
    "    df3 = pd.read_json(\"JSON3.json\") # Celleneuve\n",
    "    df = pd.concat([df1 , df2, df3], ignore_index = True)\n",
    "    output_label = tk.Label()\n",
    "    output_label.place(relx=0.25, rely=0.35, relwidth=0.5, relheight=0.4)\n",
    "    if variable.get() == 'Berracasa':\n",
    "       output_label['text'] = f\"Le nombre de vélo passé le {df['dateObserved'][0][0:10]} est de {df['intensity'][0]}\"\n",
    "    if variable.get() == 'Laverune':\n",
    "        output_label['text'] = f\"Le nombre de vélo passé le {df['dateObserved'][2][0:10]} est de {df['intensity'][2]}\"\n",
    "    if variable.get() == 'Celleneuve':\n",
    "        output_label['text'] = f\"Le nombre de vélo passé le {df['dateObserved'][4][0:10]} est de {df['intensity'][4]}\"\n",
    "\n"
   ]
  },
  {
   "cell_type": "code",
   "execution_count": null,
   "metadata": {},
   "outputs": [],
   "source": [
    "racine = tk.Tk()\n",
    "\n",
    "#fenêtre\n",
    "toile = tk.Canvas(racine, height=taille, width=largeur)\n",
    "toile.pack()\n",
    "\n",
    "#image de fond\n",
    "image = tk.PhotoImage(file='C:/Users/Julie Alleau/Pictures/Saved Pictures/velomagg_tram.png')\n",
    "image_label = tk.Label(racine, image=image)\n",
    "image_label.place(relwidth=1, relheight=1)\n",
    "\n",
    "#petit cadre vert\n",
    "cadre = tk.Frame(racine, bg='#28b463', bd=5)\n",
    "cadre.place(relx=0.5, rely=0.1, relwidth=0.75, relheight=0.1, anchor='n')\n",
    "\n",
    "#menu déroulant\n",
    "OptionList = [\n",
    "\"Berracasa\",\n",
    "\"Laverune\",\n",
    "\"Celleneuve\"\n",
    "] \n",
    "\n",
    "variable = tk.StringVar(racine)\n",
    "variable.set(OptionList[0])\n",
    "\n",
    "opt = tk.OptionMenu(racine, variable, *OptionList)\n",
    "opt.config(width=90, font=('Helvetica', 12))\n",
    "opt.place(relx=0.2, rely=0.1,relwidth=0.4, relheight=0.1)\n",
    "opt = tk.OptionMenu(racine, variable, *OptionList)\n",
    "\n",
    "#bouton \n",
    "bouton = tk.Button(cadre, text=\"cliquer ici\", font=40, command=lambda: velo(variable))\n",
    "bouton.place(relx=0.7, relwidth=0.3, relheight=1)\n",
    "\n",
    "#contour vert\n",
    "cadre_inferieur = tk.Frame(racine, bg='#28b463', bd=10)\n",
    "cadre_inferieur.place(relx=0.5, rely=0.25, relwidth=0.75, relheight=0.6, anchor='n')\n",
    "\n",
    "#cadre blanc au milieu\n",
    "label = tk.Label(cadre_inferieur)\n",
    "label.place(relwidth=1, relheight=1)\n",
    "\n",
    "\n",
    "racine.mainloop()"
   ]
  }
 ]
}